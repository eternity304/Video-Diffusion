{
 "cells": [
  {
   "cell_type": "code",
   "execution_count": 4,
   "id": "20784dbd",
   "metadata": {},
   "outputs": [],
   "source": [
    "import os\n",
    "os.chdir(\"..\")\n",
    "\n",
    "from data.VideoDataset import *"
   ]
  },
  {
   "cell_type": "code",
   "execution_count": null,
   "id": "0db3eec9",
   "metadata": {},
   "outputs": [],
   "source": [
    "dataset = VideoDataset(videos_dir=\"/scratch/ondemand28/harryscz/head_audio/data/data256/uv\")\n",
    "\n",
    "for i in range(len(dataset)):\n",
    "    print(dataset[0][\"video_chunks\"][0].shape)"
   ]
  }
 ],
 "metadata": {
  "kernelspec": {
   "display_name": "pytorch3d",
   "language": "python",
   "name": "python3"
  },
  "language_info": {
   "codemirror_mode": {
    "name": "ipython",
    "version": 3
   },
   "file_extension": ".py",
   "mimetype": "text/x-python",
   "name": "python",
   "nbconvert_exporter": "python",
   "pygments_lexer": "ipython3",
   "version": "3.9.21"
  }
 },
 "nbformat": 4,
 "nbformat_minor": 5
}
